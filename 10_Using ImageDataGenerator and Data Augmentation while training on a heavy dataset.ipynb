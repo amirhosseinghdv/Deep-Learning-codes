{
 "cells": [
  {
   "cell_type": "code",
   "execution_count": 16,
   "metadata": {},
   "outputs": [],
   "source": [
    "import os\n",
    "import matplotlib.pyplot as plt\n",
    "from keras.preprocessing.image import ImageDataGenerator"
   ]
  },
  {
   "cell_type": "code",
   "execution_count": 17,
   "metadata": {},
   "outputs": [],
   "source": [
    "base_dir = 'C:/00000000000000DEEP/0tamrin/تمرین سری ۲/تمرین_سری_۲_سوال_۲_ترم_تابستان_۹۹/cat-nonCat/dataset'"
   ]
  },
  {
   "cell_type": "code",
   "execution_count": 18,
   "metadata": {},
   "outputs": [],
   "source": [
    "train_dir = os.path.join(base_dir, 'train')"
   ]
  },
  {
   "cell_type": "code",
   "execution_count": 19,
   "metadata": {},
   "outputs": [],
   "source": [
    "test_dir = os.path.join(base_dir, 'test')"
   ]
  },
  {
   "cell_type": "code",
   "execution_count": 20,
   "metadata": {},
   "outputs": [],
   "source": [
    "train_cat_dir = os.path.join(train_dir, 'cat')"
   ]
  },
  {
   "cell_type": "code",
   "execution_count": 21,
   "metadata": {},
   "outputs": [],
   "source": [
    "train_non_cat_dir = os.path.join(train_dir, 'non-cat')"
   ]
  },
  {
   "cell_type": "code",
   "execution_count": 22,
   "metadata": {},
   "outputs": [],
   "source": [
    "test_cat_dir = os.path.join(test_dir, 'cat')"
   ]
  },
  {
   "cell_type": "code",
   "execution_count": 23,
   "metadata": {},
   "outputs": [],
   "source": [
    "test_non_cat_dir = os.path.join(test_dir, 'non-cat')"
   ]
  },
  {
   "cell_type": "code",
   "execution_count": 24,
   "metadata": {},
   "outputs": [
    {
     "name": "stdout",
     "output_type": "stream",
     "text": [
      "total training cat images: 72\n",
      "total training non-cat images: 137\n",
      "total test cat images: 33\n",
      "total test non-cat images: 17\n"
     ]
    }
   ],
   "source": [
    "print('total training cat images:', len(os.listdir(train_cat_dir)))\n",
    "print('total training non-cat images:', len(os.listdir(train_non_cat_dir)))\n",
    "print('total test cat images:', len(os.listdir(test_cat_dir)))\n",
    "print('total test non-cat images:', len(os.listdir(test_non_cat_dir)))"
   ]
  },
  {
   "cell_type": "code",
   "execution_count": 25,
   "metadata": {},
   "outputs": [],
   "source": [
    "from keras import layers\n",
    "from keras import models\n",
    "from keras import optimizers\n",
    "\n",
    "model = models.Sequential()\n",
    "model.add(layers.Conv2D(32, (3, 3), activation='relu',\n",
    "                        input_shape=(64, 64, 3)))\n",
    "model.add(layers.MaxPooling2D((2, 2)))\n",
    "model.add(layers.Conv2D(64, (3, 3), activation='relu'))\n",
    "model.add(layers.MaxPooling2D((2, 2)))\n",
    "model.add(layers.Conv2D(128, (3, 3), activation='relu'))\n",
    "model.add(layers.MaxPooling2D((2, 2)))\n",
    "model.add(layers.Conv2D(128, (3, 3), activation='relu'))\n",
    "model.add(layers.MaxPooling2D((2, 2)))\n",
    "model.add(layers.Flatten())\n",
    "model.add(layers.Dropout(0.5))\n",
    "model.add(layers.Dense(512, activation='relu'))\n",
    "model.add(layers.Dense(1, activation='sigmoid'))\n",
    "\n",
    "model.compile(loss='binary_crossentropy',\n",
    "              optimizer=optimizers.RMSprop(lr=1e-4),\n",
    "              metrics=['acc'])"
   ]
  },
  {
   "cell_type": "code",
   "execution_count": 26,
   "metadata": {},
   "outputs": [],
   "source": [
    "train_datagen = ImageDataGenerator(\n",
    "    rescale=1./255,\n",
    "    rotation_range=20,\n",
    "    width_shift_range=0.2,\n",
    "    height_shift_range=0.2,\n",
    "    shear_range=0.2,\n",
    "    zoom_range=0.2,\n",
    "    horizontal_flip=True,)"
   ]
  },
  {
   "cell_type": "code",
   "execution_count": 27,
   "metadata": {},
   "outputs": [],
   "source": [
    "test_datagen = ImageDataGenerator(rescale=1./255)"
   ]
  },
  {
   "cell_type": "code",
   "execution_count": 28,
   "metadata": {},
   "outputs": [
    {
     "name": "stdout",
     "output_type": "stream",
     "text": [
      "Found 209 images belonging to 2 classes.\n"
     ]
    }
   ],
   "source": [
    "train_generator = train_datagen.flow_from_directory(\n",
    "        train_dir,\n",
    "        target_size=(64, 64),\n",
    "        batch_size=32,\n",
    "        class_mode='binary')"
   ]
  },
  {
   "cell_type": "code",
   "execution_count": 29,
   "metadata": {},
   "outputs": [
    {
     "name": "stdout",
     "output_type": "stream",
     "text": [
      "Found 50 images belonging to 2 classes.\n"
     ]
    }
   ],
   "source": [
    "validation_generator = test_datagen.flow_from_directory(\n",
    "        test_dir,\n",
    "        target_size=(64, 64),\n",
    "        batch_size=32,\n",
    "        class_mode='binary')"
   ]
  },
  {
   "cell_type": "code",
   "execution_count": 30,
   "metadata": {},
   "outputs": [
    {
     "name": "stdout",
     "output_type": "stream",
     "text": [
      "WARNING:tensorflow:From <ipython-input-30-f3057bbac104>:6: Model.fit_generator (from tensorflow.python.keras.engine.training) is deprecated and will be removed in a future version.\n",
      "Instructions for updating:\n",
      "Please use Model.fit, which supports generators.\n",
      "Epoch 1/100\n",
      "7/7 [==============================] - 8s 1s/step - loss: 0.6649 - acc: 0.6507 - val_loss: 0.8121 - val_acc: 0.3400\n",
      "Epoch 2/100\n",
      "7/7 [==============================] - 3s 401ms/step - loss: 0.6428 - acc: 0.6555 - val_loss: 0.8363 - val_acc: 0.3400\n",
      "Epoch 3/100\n",
      "7/7 [==============================] - 3s 425ms/step - loss: 0.6378 - acc: 0.6555 - val_loss: 0.8896 - val_acc: 0.3400\n",
      "Epoch 4/100\n",
      "7/7 [==============================] - 4s 506ms/step - loss: 0.6314 - acc: 0.6555 - val_loss: 0.8527 - val_acc: 0.3400\n",
      "Epoch 5/100\n",
      "7/7 [==============================] - 4s 548ms/step - loss: 0.6294 - acc: 0.6555 - val_loss: 0.8759 - val_acc: 0.3400\n",
      "Epoch 6/100\n",
      "7/7 [==============================] - 3s 413ms/step - loss: 0.6179 - acc: 0.6555 - val_loss: 0.8906 - val_acc: 0.3400\n",
      "Epoch 7/100\n",
      "7/7 [==============================] - 3s 364ms/step - loss: 0.6151 - acc: 0.6555 - val_loss: 0.9885 - val_acc: 0.3400\n",
      "Epoch 8/100\n",
      "7/7 [==============================] - 3s 424ms/step - loss: 0.6003 - acc: 0.6555 - val_loss: 0.8518 - val_acc: 0.3400\n",
      "Epoch 9/100\n",
      "7/7 [==============================] - 3s 378ms/step - loss: 0.5819 - acc: 0.6555 - val_loss: 0.9026 - val_acc: 0.3400\n",
      "Epoch 10/100\n",
      "7/7 [==============================] - 3s 385ms/step - loss: 0.5699 - acc: 0.6555 - val_loss: 0.7897 - val_acc: 0.3400\n",
      "Epoch 11/100\n",
      "7/7 [==============================] - 3s 365ms/step - loss: 0.5575 - acc: 0.6555 - val_loss: 0.7325 - val_acc: 0.4000\n",
      "Epoch 12/100\n",
      "7/7 [==============================] - 3s 417ms/step - loss: 0.5474 - acc: 0.6794 - val_loss: 0.8348 - val_acc: 0.3800\n",
      "Epoch 13/100\n",
      "7/7 [==============================] - 3s 381ms/step - loss: 0.5372 - acc: 0.6603 - val_loss: 0.7209 - val_acc: 0.5000\n",
      "Epoch 14/100\n",
      "7/7 [==============================] - 3s 388ms/step - loss: 0.5248 - acc: 0.6938 - val_loss: 0.7626 - val_acc: 0.5000\n",
      "Epoch 15/100\n",
      "7/7 [==============================] - 3s 376ms/step - loss: 0.5149 - acc: 0.6938 - val_loss: 0.8369 - val_acc: 0.4600\n",
      "Epoch 16/100\n",
      "7/7 [==============================] - 3s 370ms/step - loss: 0.5073 - acc: 0.7273 - val_loss: 0.8682 - val_acc: 0.4400\n",
      "Epoch 17/100\n",
      "7/7 [==============================] - 3s 385ms/step - loss: 0.4907 - acc: 0.7129 - val_loss: 0.6548 - val_acc: 0.6600\n",
      "Epoch 18/100\n",
      "7/7 [==============================] - 3s 365ms/step - loss: 0.4746 - acc: 0.7464 - val_loss: 0.7618 - val_acc: 0.5400\n",
      "Epoch 19/100\n",
      "7/7 [==============================] - 2s 342ms/step - loss: 0.4661 - acc: 0.7608 - val_loss: 0.9669 - val_acc: 0.4800\n",
      "Epoch 20/100\n",
      "7/7 [==============================] - 3s 390ms/step - loss: 0.4507 - acc: 0.7608 - val_loss: 0.9981 - val_acc: 0.4800\n",
      "Epoch 21/100\n",
      "7/7 [==============================] - 2s 355ms/step - loss: 0.4669 - acc: 0.7464 - val_loss: 0.6926 - val_acc: 0.6200\n",
      "Epoch 22/100\n",
      "7/7 [==============================] - 2s 356ms/step - loss: 0.4355 - acc: 0.7895 - val_loss: 0.6482 - val_acc: 0.6600\n",
      "Epoch 23/100\n",
      "7/7 [==============================] - 3s 357ms/step - loss: 0.4480 - acc: 0.7895 - val_loss: 0.7875 - val_acc: 0.5800\n",
      "Epoch 24/100\n",
      "7/7 [==============================] - 3s 397ms/step - loss: 0.4416 - acc: 0.7847 - val_loss: 1.0886 - val_acc: 0.4800\n",
      "Epoch 25/100\n",
      "7/7 [==============================] - 3s 374ms/step - loss: 0.4555 - acc: 0.7512 - val_loss: 0.8045 - val_acc: 0.5800\n",
      "Epoch 26/100\n",
      "7/7 [==============================] - 3s 380ms/step - loss: 0.4547 - acc: 0.7799 - val_loss: 0.7710 - val_acc: 0.6000\n",
      "Epoch 27/100\n",
      "7/7 [==============================] - 3s 409ms/step - loss: 0.4343 - acc: 0.7703 - val_loss: 0.6928 - val_acc: 0.6200\n",
      "Epoch 28/100\n",
      "7/7 [==============================] - 3s 362ms/step - loss: 0.4069 - acc: 0.8086 - val_loss: 0.9117 - val_acc: 0.5200\n",
      "Epoch 29/100\n",
      "7/7 [==============================] - 2s 281ms/step - loss: 0.4387 - acc: 0.7943 - val_loss: 0.5796 - val_acc: 0.7000\n",
      "Epoch 30/100\n",
      "7/7 [==============================] - 3s 371ms/step - loss: 0.4286 - acc: 0.7847 - val_loss: 0.4655 - val_acc: 0.8200\n",
      "Epoch 31/100\n",
      "7/7 [==============================] - 3s 373ms/step - loss: 0.4217 - acc: 0.7895 - val_loss: 0.6450 - val_acc: 0.6800\n",
      "Epoch 32/100\n",
      "7/7 [==============================] - 3s 368ms/step - loss: 0.3993 - acc: 0.8182 - val_loss: 0.8388 - val_acc: 0.5400\n",
      "Epoch 33/100\n",
      "7/7 [==============================] - 3s 368ms/step - loss: 0.3876 - acc: 0.8230 - val_loss: 0.4486 - val_acc: 0.8200\n",
      "Epoch 34/100\n",
      "7/7 [==============================] - 3s 390ms/step - loss: 0.3831 - acc: 0.8373 - val_loss: 1.3332 - val_acc: 0.4400\n",
      "Epoch 35/100\n",
      "7/7 [==============================] - 3s 372ms/step - loss: 0.3832 - acc: 0.8086 - val_loss: 0.8845 - val_acc: 0.5400\n",
      "Epoch 36/100\n",
      "7/7 [==============================] - 3s 391ms/step - loss: 0.3971 - acc: 0.7990 - val_loss: 0.6832 - val_acc: 0.7000\n",
      "Epoch 37/100\n",
      "7/7 [==============================] - 2s 322ms/step - loss: 0.3914 - acc: 0.8230 - val_loss: 0.5580 - val_acc: 0.7400\n",
      "Epoch 38/100\n",
      "7/7 [==============================] - 3s 404ms/step - loss: 0.3571 - acc: 0.8421 - val_loss: 0.7112 - val_acc: 0.6800\n",
      "Epoch 39/100\n",
      "7/7 [==============================] - 3s 402ms/step - loss: 0.3579 - acc: 0.8182 - val_loss: 0.7008 - val_acc: 0.7000\n",
      "Epoch 40/100\n",
      "7/7 [==============================] - 2s 319ms/step - loss: 0.3276 - acc: 0.8421 - val_loss: 0.9918 - val_acc: 0.5400\n",
      "Epoch 41/100\n",
      "7/7 [==============================] - 3s 409ms/step - loss: 0.3499 - acc: 0.8708 - val_loss: 0.9074 - val_acc: 0.5400\n",
      "Epoch 42/100\n",
      "7/7 [==============================] - 3s 403ms/step - loss: 0.3380 - acc: 0.8517 - val_loss: 0.9112 - val_acc: 0.5400\n",
      "Epoch 43/100\n",
      "7/7 [==============================] - 3s 412ms/step - loss: 0.3730 - acc: 0.8134 - val_loss: 1.0504 - val_acc: 0.5000\n",
      "Epoch 44/100\n",
      "7/7 [==============================] - 3s 425ms/step - loss: 0.3429 - acc: 0.8373 - val_loss: 0.3569 - val_acc: 0.8800\n",
      "Epoch 45/100\n",
      "7/7 [==============================] - 3s 450ms/step - loss: 0.3672 - acc: 0.8325 - val_loss: 0.5733 - val_acc: 0.7600\n",
      "Epoch 46/100\n",
      "7/7 [==============================] - 3s 398ms/step - loss: 0.3337 - acc: 0.8612 - val_loss: 0.9503 - val_acc: 0.5600\n",
      "Epoch 47/100\n",
      "7/7 [==============================] - 3s 421ms/step - loss: 0.3350 - acc: 0.8373 - val_loss: 0.7877 - val_acc: 0.6400\n",
      "Epoch 48/100\n",
      "7/7 [==============================] - 3s 407ms/step - loss: 0.3113 - acc: 0.8756 - val_loss: 0.3478 - val_acc: 0.9000\n",
      "Epoch 49/100\n",
      "7/7 [==============================] - 3s 402ms/step - loss: 0.3420 - acc: 0.8421 - val_loss: 0.6269 - val_acc: 0.7400\n",
      "Epoch 50/100\n",
      "7/7 [==============================] - 3s 484ms/step - loss: 0.3235 - acc: 0.8421 - val_loss: 0.7039 - val_acc: 0.7000\n",
      "Epoch 51/100\n",
      "7/7 [==============================] - 3s 439ms/step - loss: 0.3032 - acc: 0.8852 - val_loss: 0.9781 - val_acc: 0.6000\n",
      "Epoch 52/100\n",
      "7/7 [==============================] - 2s 295ms/step - loss: 0.3302 - acc: 0.8278 - val_loss: 0.6590 - val_acc: 0.7400\n",
      "Epoch 53/100\n",
      "7/7 [==============================] - 3s 440ms/step - loss: 0.3013 - acc: 0.8804 - val_loss: 0.3163 - val_acc: 0.9200\n",
      "Epoch 54/100\n",
      "7/7 [==============================] - 2s 310ms/step - loss: 0.3236 - acc: 0.8517 - val_loss: 0.4760 - val_acc: 0.8000\n",
      "Epoch 55/100\n",
      "7/7 [==============================] - 3s 409ms/step - loss: 0.3195 - acc: 0.8517 - val_loss: 1.0271 - val_acc: 0.5800\n",
      "Epoch 56/100\n",
      "7/7 [==============================] - 3s 427ms/step - loss: 0.3067 - acc: 0.8421 - val_loss: 0.3843 - val_acc: 0.8600\n",
      "Epoch 57/100\n",
      "7/7 [==============================] - 3s 408ms/step - loss: 0.3004 - acc: 0.8756 - val_loss: 0.5254 - val_acc: 0.8000\n",
      "Epoch 58/100\n",
      "7/7 [==============================] - 3s 376ms/step - loss: 0.3168 - acc: 0.8565 - val_loss: 0.8561 - val_acc: 0.6200\n",
      "Epoch 59/100\n",
      "7/7 [==============================] - 3s 440ms/step - loss: 0.2902 - acc: 0.8804 - val_loss: 1.0479 - val_acc: 0.5400\n",
      "Epoch 60/100\n",
      "7/7 [==============================] - 3s 404ms/step - loss: 0.2843 - acc: 0.8852 - val_loss: 1.0536 - val_acc: 0.5600\n",
      "Epoch 61/100\n",
      "7/7 [==============================] - 2s 320ms/step - loss: 0.2485 - acc: 0.8995 - val_loss: 1.0151 - val_acc: 0.5600\n",
      "Epoch 62/100\n",
      "7/7 [==============================] - 3s 404ms/step - loss: 0.2991 - acc: 0.8421 - val_loss: 0.7587 - val_acc: 0.7000\n",
      "Epoch 63/100\n",
      "7/7 [==============================] - 3s 395ms/step - loss: 0.2964 - acc: 0.8852 - val_loss: 0.4787 - val_acc: 0.8200\n",
      "Epoch 64/100\n",
      "7/7 [==============================] - 3s 411ms/step - loss: 0.3094 - acc: 0.8612 - val_loss: 0.8409 - val_acc: 0.6800\n",
      "Epoch 65/100\n",
      "7/7 [==============================] - 2s 330ms/step - loss: 0.2649 - acc: 0.8852 - val_loss: 0.6889 - val_acc: 0.7400\n",
      "Epoch 66/100\n",
      "7/7 [==============================] - 3s 391ms/step - loss: 0.2930 - acc: 0.8708 - val_loss: 0.4430 - val_acc: 0.8600\n",
      "Epoch 67/100\n",
      "7/7 [==============================] - 3s 385ms/step - loss: 0.2673 - acc: 0.8852 - val_loss: 0.9489 - val_acc: 0.6000\n",
      "Epoch 68/100\n",
      "7/7 [==============================] - 3s 404ms/step - loss: 0.2938 - acc: 0.8421 - val_loss: 0.4408 - val_acc: 0.8400\n",
      "Epoch 69/100\n",
      "7/7 [==============================] - 3s 426ms/step - loss: 0.2211 - acc: 0.8995 - val_loss: 0.4617 - val_acc: 0.8400\n",
      "Epoch 70/100\n",
      "7/7 [==============================] - 3s 397ms/step - loss: 0.2968 - acc: 0.8612 - val_loss: 0.7941 - val_acc: 0.7600\n",
      "Epoch 71/100\n",
      "7/7 [==============================] - 3s 428ms/step - loss: 0.2735 - acc: 0.8756 - val_loss: 0.5630 - val_acc: 0.8200\n",
      "Epoch 72/100\n",
      "7/7 [==============================] - 3s 405ms/step - loss: 0.2821 - acc: 0.8900 - val_loss: 0.8988 - val_acc: 0.6200\n",
      "Epoch 73/100\n",
      "7/7 [==============================] - 3s 386ms/step - loss: 0.2848 - acc: 0.8852 - val_loss: 0.6735 - val_acc: 0.8000\n",
      "Epoch 74/100\n",
      "7/7 [==============================] - 3s 389ms/step - loss: 0.2364 - acc: 0.9043 - val_loss: 0.9483 - val_acc: 0.6400\n",
      "Epoch 75/100\n",
      "7/7 [==============================] - 3s 369ms/step - loss: 0.3896 - acc: 0.8278 - val_loss: 0.6770 - val_acc: 0.7800\n",
      "Epoch 76/100\n",
      "7/7 [==============================] - 3s 390ms/step - loss: 0.2895 - acc: 0.8660 - val_loss: 0.4381 - val_acc: 0.8600\n",
      "Epoch 77/100\n",
      "7/7 [==============================] - 2s 354ms/step - loss: 0.2349 - acc: 0.8852 - val_loss: 0.8458 - val_acc: 0.7400\n",
      "Epoch 78/100\n",
      "7/7 [==============================] - 3s 408ms/step - loss: 0.2200 - acc: 0.9043 - val_loss: 0.9026 - val_acc: 0.6600\n",
      "Epoch 79/100\n",
      "7/7 [==============================] - 2s 339ms/step - loss: 0.2680 - acc: 0.8947 - val_loss: 0.7657 - val_acc: 0.7800\n",
      "Epoch 80/100\n",
      "7/7 [==============================] - 3s 359ms/step - loss: 0.2364 - acc: 0.9043 - val_loss: 1.5138 - val_acc: 0.4800\n",
      "Epoch 81/100\n",
      "7/7 [==============================] - 3s 371ms/step - loss: 0.2989 - acc: 0.8565 - val_loss: 0.5154 - val_acc: 0.8200\n",
      "Epoch 82/100\n",
      "7/7 [==============================] - 3s 373ms/step - loss: 0.2575 - acc: 0.8804 - val_loss: 1.6757 - val_acc: 0.4600\n",
      "Epoch 83/100\n",
      "7/7 [==============================] - 3s 376ms/step - loss: 0.2539 - acc: 0.8947 - val_loss: 0.4116 - val_acc: 0.9000\n",
      "Epoch 84/100\n",
      "7/7 [==============================] - 3s 360ms/step - loss: 0.2477 - acc: 0.8900 - val_loss: 0.4781 - val_acc: 0.8400\n",
      "Epoch 85/100\n",
      "7/7 [==============================] - 3s 392ms/step - loss: 0.2529 - acc: 0.8947 - val_loss: 1.2646 - val_acc: 0.5400\n",
      "Epoch 86/100\n",
      "7/7 [==============================] - 3s 359ms/step - loss: 0.2451 - acc: 0.9139 - val_loss: 0.3845 - val_acc: 0.8800\n",
      "Epoch 87/100\n",
      "7/7 [==============================] - 3s 398ms/step - loss: 0.2874 - acc: 0.8708 - val_loss: 0.5992 - val_acc: 0.8200\n",
      "Epoch 88/100\n",
      "7/7 [==============================] - 3s 402ms/step - loss: 0.2867 - acc: 0.8756 - val_loss: 0.5689 - val_acc: 0.8200\n",
      "Epoch 89/100\n",
      "7/7 [==============================] - 3s 365ms/step - loss: 0.2420 - acc: 0.9043 - val_loss: 0.6372 - val_acc: 0.8200\n",
      "Epoch 90/100\n",
      "7/7 [==============================] - 3s 358ms/step - loss: 0.2619 - acc: 0.8995 - val_loss: 0.5248 - val_acc: 0.8200\n",
      "Epoch 91/100\n",
      "7/7 [==============================] - 2s 342ms/step - loss: 0.2051 - acc: 0.9378 - val_loss: 0.6506 - val_acc: 0.8000\n",
      "Epoch 92/100\n",
      "7/7 [==============================] - 3s 383ms/step - loss: 0.2053 - acc: 0.9187 - val_loss: 0.8768 - val_acc: 0.7200\n",
      "Epoch 93/100\n",
      "7/7 [==============================] - 3s 390ms/step - loss: 0.2067 - acc: 0.9282 - val_loss: 0.3453 - val_acc: 0.8800\n",
      "Epoch 94/100\n",
      "7/7 [==============================] - 3s 378ms/step - loss: 0.3004 - acc: 0.8756 - val_loss: 0.4291 - val_acc: 0.8600\n",
      "Epoch 95/100\n",
      "7/7 [==============================] - 3s 381ms/step - loss: 0.2366 - acc: 0.8900 - val_loss: 0.5889 - val_acc: 0.8200\n",
      "Epoch 96/100\n",
      "7/7 [==============================] - 3s 361ms/step - loss: 0.2378 - acc: 0.9139 - val_loss: 0.7601 - val_acc: 0.7800\n",
      "Epoch 97/100\n",
      "7/7 [==============================] - 3s 376ms/step - loss: 0.1938 - acc: 0.9091 - val_loss: 0.4905 - val_acc: 0.8600\n",
      "Epoch 98/100\n",
      "7/7 [==============================] - 3s 407ms/step - loss: 0.2380 - acc: 0.8852 - val_loss: 0.9017 - val_acc: 0.7000\n",
      "Epoch 99/100\n",
      "7/7 [==============================] - 3s 397ms/step - loss: 0.2161 - acc: 0.9139 - val_loss: 1.7355 - val_acc: 0.4800\n",
      "Epoch 100/100\n",
      "7/7 [==============================] - 3s 389ms/step - loss: 0.2517 - acc: 0.8900 - val_loss: 0.4611 - val_acc: 0.8600\n"
     ]
    }
   ],
   "source": [
    "history = model.fit_generator(\n",
    "      train_generator,\n",
    "      steps_per_epoch=7,\n",
    "      epochs=100,\n",
    "      validation_data=validation_generator,\n",
    "      validation_steps=2)"
   ]
  },
  {
   "cell_type": "code",
   "execution_count": 31,
   "metadata": {},
   "outputs": [
    {
     "data": {
      "image/png": "[encoded data removed]",
      "text/plain": [
       "<Figure size 432x288 with 1 Axes>"
      ]
     },
     "metadata": {
      "needs_background": "light"
     },
     "output_type": "display_data"
    },
    {
     "data": {
      "image/png": "[encoded data removed]",
      "text/plain": [
       "<Figure size 432x288 with 1 Axes>"
      ]
     },
     "metadata": {
      "needs_background": "light"
     },
     "output_type": "display_data"
    }
   ],
   "source": [
    "acc = history.history['acc']\n",
    "val_acc = history.history['val_acc']\n",
    "loss = history.history['loss']\n",
    "val_loss = history.history['val_loss']\n",
    "\n",
    "epochs = range(len(acc))\n",
    "\n",
    "plt.plot(epochs, acc, 'bo', label='Training acc')\n",
    "plt.plot(epochs, val_acc, 'b', label='Validation acc')\n",
    "plt.title('Training and validation accuracy')\n",
    "plt.legend()\n",
    "\n",
    "plt.figure()\n",
    "\n",
    "plt.plot(epochs, loss, 'bo', label='Training loss')\n",
    "plt.plot(epochs, val_loss, 'b', label='Validation loss')\n",
    "plt.title('Training and validation loss')\n",
    "plt.legend()\n",
    "\n",
    "plt.show()"
   ]
  },
  {
   "cell_type": "code",
   "execution_count": null,
   "metadata": {},
   "outputs": [],
   "source": []
  }
 ],
 "metadata": {
  "kernelspec": {
   "display_name": "Python 3.7.6 64-bit",
   "language": "python",
   "name": "python37664bitbc3e2e406e674eab939ad8d03e08194e"
  },
  "language_info": {
   "codemirror_mode": {
    "name": "ipython",
    "version": 3
   },
   "file_extension": ".py",
   "mimetype": "text/x-python",
   "name": "python",
   "nbconvert_exporter": "python",
   "pygments_lexer": "ipython3",
   "version": "3.7.6"
  }
 },
 "nbformat": 4,
 "nbformat_minor": 4
}
