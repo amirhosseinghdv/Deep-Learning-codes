{
 "cells": [
  {
   "cell_type": "code",
   "execution_count": 1,
   "metadata": {},
   "outputs": [],
   "source": [
    "import keras\n",
    "from keras.models import Sequential\n",
    "from keras.layers import Dense, Activation, Flatten, Dropout\n",
    "from keras.layers import Conv2D, MaxPooling2D\n",
    "from keras.datasets import cifar10\n",
    "import numpy as np\n",
    "import matplotlib.pyplot as plt\n",
    "%matplotlib inline"
   ]
  },
  {
   "cell_type": "code",
   "execution_count": 2,
   "metadata": {},
   "outputs": [
    {
     "name": "stdout",
     "output_type": "stream",
     "text": [
      "Downloading data from https://www.cs.toronto.edu/~kriz/cifar-10-python.tar.gz\n",
      "170500096/170498071 [==============================] - 182s 1us/step\n"
     ]
    }
   ],
   "source": [
    "(x_train, y_train), (x_test, y_test) = cifar10.load_data()"
   ]
  },
  {
   "cell_type": "code",
   "execution_count": 3,
   "metadata": {},
   "outputs": [
    {
     "data": {
      "text/plain": [
       "<matplotlib.image.AxesImage at 0x4157666888>"
      ]
     },
     "execution_count": 3,
     "metadata": {},
     "output_type": "execute_result"
    },
    {
     "data": {
      "image/png": "[encoded data removed]",
      "text/plain": [
       "<Figure size 432x288 with 1 Axes>"
      ]
     },
     "metadata": {
      "needs_background": "light"
     },
     "output_type": "display_data"
    }
   ],
   "source": [
    "plt.imshow(x_train[17])"
   ]
  },
  {
   "cell_type": "code",
   "execution_count": 4,
   "metadata": {},
   "outputs": [],
   "source": [
    "x_train = x_train.astype('float32')\n",
    "x_train /= 255\n",
    "x_test = x_test.astype('float32')\n",
    "x_test /= 255"
   ]
  },
  {
   "cell_type": "code",
   "execution_count": 5,
   "metadata": {},
   "outputs": [
    {
     "data": {
      "text/plain": [
       "array([[6],\n",
       "       [9],\n",
       "       [9],\n",
       "       [4],\n",
       "       [1]], dtype=uint8)"
      ]
     },
     "execution_count": 5,
     "metadata": {},
     "output_type": "execute_result"
    }
   ],
   "source": [
    "y_train[0:5]"
   ]
  },
  {
   "cell_type": "code",
   "execution_count": 7,
   "metadata": {},
   "outputs": [],
   "source": [
    "y_train=keras.utils.to_categorical(y_train, num_classes=10)\n",
    "y_test=keras.utils.to_categorical(y_test, num_classes=10)"
   ]
  },
  {
   "cell_type": "code",
   "execution_count": 8,
   "metadata": {},
   "outputs": [
    {
     "data": {
      "text/plain": [
       "array([[0., 0., 0., 0., 0., 0., 1., 0., 0., 0.],\n",
       "       [0., 0., 0., 0., 0., 0., 0., 0., 0., 1.],\n",
       "       [0., 0., 0., 0., 0., 0., 0., 0., 0., 1.],\n",
       "       [0., 0., 0., 0., 1., 0., 0., 0., 0., 0.],\n",
       "       [0., 1., 0., 0., 0., 0., 0., 0., 0., 0.]], dtype=float32)"
      ]
     },
     "execution_count": 8,
     "metadata": {},
     "output_type": "execute_result"
    }
   ],
   "source": [
    "y_train[0:5]"
   ]
  },
  {
   "cell_type": "code",
   "execution_count": 11,
   "metadata": {},
   "outputs": [],
   "source": [
    "model = Sequential()\n",
    "model.add(Conv2D(32, (3, 3), activation='relu',\n",
    "                        input_shape=(32, 32, 3)))\n",
    "model.add(MaxPooling2D((2, 2)))\n",
    "model.add(Conv2D(32, (3, 3), activation='relu'))\n",
    "model.add(MaxPooling2D((2, 2)))\n",
    "model.add(Conv2D(64, (3, 3), activation='relu'))\n",
    "model.add(MaxPooling2D((2, 2)))\n",
    "model.add(Flatten())\n",
    "model.add(Dropout(0.5))\n",
    "model.add(Dense(10, activation='softmax'))"
   ]
  },
  {
   "cell_type": "code",
   "execution_count": 13,
   "metadata": {},
   "outputs": [],
   "source": [
    "opt_rms = keras.optimizers.RMSprop(lr=0.001,decay=1e-6)\n",
    "\n",
    "model.compile(opt_rms, loss='categorical_crossentropy',metrics=['accuracy'])"
   ]
  },
  {
   "cell_type": "code",
   "execution_count": 14,
   "metadata": {},
   "outputs": [
    {
     "name": "stdout",
     "output_type": "stream",
     "text": [
      "Epoch 1/25\n",
      "782/782 [==============================] - 69s 89ms/step - loss: 1.8277 - accuracy: 0.3249 - val_loss: 1.5836 - val_accuracy: 0.4309\n",
      "Epoch 2/25\n",
      "782/782 [==============================] - 54s 69ms/step - loss: 1.5126 - accuracy: 0.4547 - val_loss: 1.4962 - val_accuracy: 0.4659\n",
      "Epoch 3/25\n",
      "782/782 [==============================] - 43s 55ms/step - loss: 1.3879 - accuracy: 0.5032 - val_loss: 1.3422 - val_accuracy: 0.5212\n",
      "Epoch 4/25\n",
      "782/782 [==============================] - 28s 36ms/step - loss: 1.3127 - accuracy: 0.5332 - val_loss: 1.2303 - val_accuracy: 0.5587\n",
      "Epoch 5/25\n",
      "782/782 [==============================] - 30s 38ms/step - loss: 1.2500 - accuracy: 0.5605 - val_loss: 1.2172 - val_accuracy: 0.5564\n",
      "Epoch 6/25\n",
      "782/782 [==============================] - 31s 40ms/step - loss: 1.2100 - accuracy: 0.5741 - val_loss: 1.1763 - val_accuracy: 0.5988\n",
      "Epoch 7/25\n",
      "782/782 [==============================] - 30s 38ms/step - loss: 1.1692 - accuracy: 0.5868 - val_loss: 1.1655 - val_accuracy: 0.5808\n",
      "Epoch 8/25\n",
      "782/782 [==============================] - 31s 40ms/step - loss: 1.1359 - accuracy: 0.6006 - val_loss: 1.1545 - val_accuracy: 0.6028\n",
      "Epoch 9/25\n",
      "782/782 [==============================] - 30s 39ms/step - loss: 1.1084 - accuracy: 0.6113 - val_loss: 1.0838 - val_accuracy: 0.6231\n",
      "Epoch 10/25\n",
      "782/782 [==============================] - 31s 39ms/step - loss: 1.0892 - accuracy: 0.6176 - val_loss: 1.0019 - val_accuracy: 0.6506\n",
      "Epoch 11/25\n",
      "782/782 [==============================] - 31s 40ms/step - loss: 1.0680 - accuracy: 0.6263 - val_loss: 1.0481 - val_accuracy: 0.6427\n",
      "Epoch 12/25\n",
      "782/782 [==============================] - 31s 39ms/step - loss: 1.0499 - accuracy: 0.6324 - val_loss: 1.0226 - val_accuracy: 0.6540\n",
      "Epoch 13/25\n",
      "782/782 [==============================] - 30s 39ms/step - loss: 1.0307 - accuracy: 0.6391 - val_loss: 1.0089 - val_accuracy: 0.6516\n",
      "Epoch 14/25\n",
      "782/782 [==============================] - 31s 39ms/step - loss: 1.0113 - accuracy: 0.6458 - val_loss: 1.0187 - val_accuracy: 0.6447\n",
      "Epoch 15/25\n",
      "782/782 [==============================] - 31s 40ms/step - loss: 0.9954 - accuracy: 0.6509 - val_loss: 0.9702 - val_accuracy: 0.6675\n",
      "Epoch 16/25\n",
      "782/782 [==============================] - 31s 40ms/step - loss: 0.9924 - accuracy: 0.6553 - val_loss: 0.9369 - val_accuracy: 0.6808\n",
      "Epoch 17/25\n",
      "782/782 [==============================] - 30s 39ms/step - loss: 0.9790 - accuracy: 0.6590 - val_loss: 0.9372 - val_accuracy: 0.6763\n",
      "Epoch 18/25\n",
      "782/782 [==============================] - 30s 39ms/step - loss: 0.9658 - accuracy: 0.6620 - val_loss: 0.9873 - val_accuracy: 0.6585\n",
      "Epoch 19/25\n",
      "782/782 [==============================] - 30s 38ms/step - loss: 0.9539 - accuracy: 0.6658 - val_loss: 1.0713 - val_accuracy: 0.6244\n",
      "Epoch 20/25\n",
      "782/782 [==============================] - 30s 38ms/step - loss: 0.9421 - accuracy: 0.6713 - val_loss: 0.9659 - val_accuracy: 0.6610\n",
      "Epoch 21/25\n",
      "782/782 [==============================] - 32s 41ms/step - loss: 0.9343 - accuracy: 0.6738 - val_loss: 1.0100 - val_accuracy: 0.6524\n",
      "Epoch 22/25\n",
      "782/782 [==============================] - 30s 39ms/step - loss: 0.9283 - accuracy: 0.6750 - val_loss: 1.0142 - val_accuracy: 0.6440\n",
      "Epoch 23/25\n",
      "782/782 [==============================] - 30s 38ms/step - loss: 0.9205 - accuracy: 0.6785 - val_loss: 0.9450 - val_accuracy: 0.6715\n",
      "Epoch 24/25\n",
      "782/782 [==============================] - 31s 39ms/step - loss: 0.9140 - accuracy: 0.6816 - val_loss: 0.8951 - val_accuracy: 0.6912\n",
      "Epoch 25/25\n",
      "782/782 [==============================] - 32s 41ms/step - loss: 0.9057 - accuracy: 0.6839 - val_loss: 0.8774 - val_accuracy: 0.6959\n"
     ]
    }
   ],
   "source": [
    "history = model.fit(x_train,y_train,\n",
    "                   epochs=25,batch_size=64,validation_data=(x_test,y_test))"
   ]
  },
  {
   "cell_type": "code",
   "execution_count": null,
   "metadata": {},
   "outputs": [],
   "source": []
  }
 ],
 "metadata": {
  "kernelspec": {
   "display_name": "Python 3.7.6 64-bit",
   "language": "python",
   "name": "python37664bitbc3e2e406e674eab939ad8d03e08194e"
  },
  "language_info": {
   "codemirror_mode": {
    "name": "ipython",
    "version": 3
   },
   "file_extension": ".py",
   "mimetype": "text/x-python",
   "name": "python",
   "nbconvert_exporter": "python",
   "pygments_lexer": "ipython3",
   "version": "3.7.6"
  }
 },
 "nbformat": 4,
 "nbformat_minor": 4
}
