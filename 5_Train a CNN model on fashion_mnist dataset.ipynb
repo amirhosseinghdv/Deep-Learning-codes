{
 "cells": [
  {
   "cell_type": "code",
   "execution_count": 66,
   "metadata": {
    "id": "lIYdn1woOS1n"
   },
   "outputs": [],
   "source": [
    "import keras\n",
    "from keras.models import Sequential\n",
    "from keras.layers import Dense, Activation, Flatten, Dropout\n",
    "from keras.layers import Conv2D, MaxPooling2D\n",
    "fashion_mnist=keras.datasets.fashion_mnist\n",
    "import numpy as np\n",
    "import matplotlib.pyplot as plt"
   ]
  },
  {
   "cell_type": "code",
   "execution_count": 67,
   "metadata": {
    "id": "pSUolwWXZiCM"
   },
   "outputs": [],
   "source": [
    "(train_images,train_labels),(test_images,test_labels) = fashion_mnist.load_data()"
   ]
  },
  {
   "cell_type": "code",
   "execution_count": 68,
   "metadata": {
    "colab": {
     "base_uri": "https://localhost:8080/"
    },
    "id": "KakZTtegZqqo",
    "outputId": "7a8b4e85-b6f1-4b10-df8c-bfc68943a0ad"
   },
   "outputs": [
    {
     "data": {
      "text/plain": [
       "10"
      ]
     },
     "execution_count": 68,
     "metadata": {
      "tags": []
     },
     "output_type": "execute_result"
    }
   ],
   "source": [
    "len(np.unique(train_labels))"
   ]
  },
  {
   "cell_type": "markdown",
   "metadata": {
    "id": "KvUNYFM3wfuZ"
   },
   "source": [
    "#so we have 10 classes"
   ]
  },
  {
   "cell_type": "code",
   "execution_count": 69,
   "metadata": {
    "colab": {
     "base_uri": "https://localhost:8080/",
     "height": 283
    },
    "id": "8Bl_2N9BwPNN",
    "outputId": "d45fd2a7-7a2f-45c4-daab-eeb61399fdbf"
   },
   "outputs": [
    {
     "data": {
      "text/plain": [
       "<matplotlib.image.AxesImage at 0x7f09cb5d5a58>"
      ]
     },
     "execution_count": 69,
     "metadata": {
      "tags": []
     },
     "output_type": "execute_result"
    },
    {
     "data": {
      "image/png": "[encoded data removed]",
      "text/plain": [
       "<Figure size 432x288 with 1 Axes>"
      ]
     },
     "metadata": {
      "needs_background": "light",
      "tags": []
     },
     "output_type": "display_data"
    }
   ],
   "source": [
    "plt.imshow(train_images[86])"
   ]
  },
  {
   "cell_type": "code",
   "execution_count": 70,
   "metadata": {
    "colab": {
     "base_uri": "https://localhost:8080/",
     "height": 283
    },
    "id": "X-VgyAx3z33s",
    "outputId": "fdcc9941-b8e5-4b22-a9ec-8d15569eebaa"
   },
   "outputs": [
    {
     "data": {
      "text/plain": [
       "<matplotlib.image.AxesImage at 0x7f09cb533978>"
      ]
     },
     "execution_count": 70,
     "metadata": {
      "tags": []
     },
     "output_type": "execute_result"
    },
    {
     "data": {
      "image/png": "[encoded data removed]",
      "text/plain": [
       "<Figure size 432x288 with 1 Axes>"
      ]
     },
     "metadata": {
      "needs_background": "light",
      "tags": []
     },
     "output_type": "display_data"
    }
   ],
   "source": [
    "plt.imshow(train_images[591])"
   ]
  },
  {
   "cell_type": "code",
   "execution_count": 71,
   "metadata": {
    "colab": {
     "base_uri": "https://localhost:8080/",
     "height": 283
    },
    "id": "qDhXs2sAz917",
    "outputId": "e87d1871-fc8d-481c-8caa-51a8132a63be"
   },
   "outputs": [
    {
     "data": {
      "text/plain": [
       "<matplotlib.image.AxesImage at 0x7f09cb50e9b0>"
      ]
     },
     "execution_count": 71,
     "metadata": {
      "tags": []
     },
     "output_type": "execute_result"
    },
    {
     "data": {
      "image/png": "[encoded data removed]",
      "text/plain": [
       "<Figure size 432x288 with 1 Axes>"
      ]
     },
     "metadata": {
      "needs_background": "light",
      "tags": []
     },
     "output_type": "display_data"
    }
   ],
   "source": [
    "plt.imshow(train_images[975])"
   ]
  },
  {
   "cell_type": "code",
   "execution_count": 72,
   "metadata": {
    "id": "3NEYOWu3Lczy"
   },
   "outputs": [],
   "source": [
    "train_images = np.array(train_images)\n",
    "test_images = np.array(test_images)\n",
    "train_labels=keras.utils.to_categorical(train_labels, num_classes=10)\n",
    "test_labels=keras.utils.to_categorical(test_labels, num_classes=10)"
   ]
  },
  {
   "cell_type": "code",
   "execution_count": 75,
   "metadata": {
    "colab": {
     "base_uri": "https://localhost:8080/"
    },
    "id": "x3-Fa7FoN4Kf",
    "outputId": "ff659f4e-4eda-4347-a45b-aaf5d6ed3fa8"
   },
   "outputs": [
    {
     "data": {
      "text/plain": [
       "(10000, 28, 28)"
      ]
     },
     "execution_count": 75,
     "metadata": {
      "tags": []
     },
     "output_type": "execute_result"
    }
   ],
   "source": [
    "test_images.shape"
   ]
  },
  {
   "cell_type": "code",
   "execution_count": 76,
   "metadata": {
    "id": "Yz-A-JCtL9bA"
   },
   "outputs": [],
   "source": [
    "train_images = train_images.reshape(60000,-1)\n",
    "test_images = test_images.reshape(10000,-1)"
   ]
  },
  {
   "cell_type": "code",
   "execution_count": 77,
   "metadata": {
    "colab": {
     "base_uri": "https://localhost:8080/"
    },
    "id": "aRoUUNRKMbcQ",
    "outputId": "4c9c8f09-b116-4cc6-93d3-2bd6ace5337c"
   },
   "outputs": [
    {
     "data": {
      "text/plain": [
       "(10000, 784)"
      ]
     },
     "execution_count": 77,
     "metadata": {
      "tags": []
     },
     "output_type": "execute_result"
    }
   ],
   "source": [
    "test_images.shape"
   ]
  },
  {
   "cell_type": "code",
   "execution_count": 78,
   "metadata": {
    "id": "dXaL3pz62FDa"
   },
   "outputs": [],
   "source": [
    "train_images = train_images.astype('float32')\n",
    "train_images /= 255\n",
    "test_images = test_images.astype('float32')\n",
    "test_images /= 255"
   ]
  },
  {
   "cell_type": "code",
   "execution_count": 79,
   "metadata": {
    "colab": {
     "base_uri": "https://localhost:8080/"
    },
    "id": "F69jWEiy2Nnn",
    "outputId": "8f060929-4ea0-40ac-b925-d9987176cf83"
   },
   "outputs": [
    {
     "data": {
      "text/plain": [
       "(10000, 10)"
      ]
     },
     "execution_count": 79,
     "metadata": {
      "tags": []
     },
     "output_type": "execute_result"
    }
   ],
   "source": [
    "test_labels.shape"
   ]
  },
  {
   "cell_type": "code",
   "execution_count": 80,
   "metadata": {
    "id": "1QqP9BoGOmvL"
   },
   "outputs": [],
   "source": [
    "model = Sequential()\n",
    "model.add(Dense(32, activation='relu', input_dim=784))\n",
    "model.add(Dense(32, activation='relu'))\n",
    "model.add(Dense(64, activation='relu'))\n",
    "model.add(Dense(10, activation='softmax'))"
   ]
  },
  {
   "cell_type": "code",
   "execution_count": 81,
   "metadata": {
    "colab": {
     "base_uri": "https://localhost:8080/"
    },
    "id": "aUIQfG2PPIuW",
    "outputId": "5e637b0c-0d18-465b-b2cc-cf18418a1b47"
   },
   "outputs": [
    {
     "name": "stdout",
     "output_type": "stream",
     "text": [
      "Model: \"sequential\"\n",
      "_________________________________________________________________\n",
      "Layer (type)                 Output Shape              Param #   \n",
      "=================================================================\n",
      "dense (Dense)                (None, 32)                25120     \n",
      "_________________________________________________________________\n",
      "dense_1 (Dense)              (None, 32)                1056      \n",
      "_________________________________________________________________\n",
      "dense_2 (Dense)              (None, 64)                2112      \n",
      "_________________________________________________________________\n",
      "dense_3 (Dense)              (None, 10)                650       \n",
      "=================================================================\n",
      "Total params: 28,938\n",
      "Trainable params: 28,938\n",
      "Non-trainable params: 0\n",
      "_________________________________________________________________\n"
     ]
    }
   ],
   "source": [
    "model.summary()"
   ]
  },
  {
   "cell_type": "code",
   "execution_count": 82,
   "metadata": {
    "id": "c6PzY4q2PMmR"
   },
   "outputs": [],
   "source": [
    "model.compile(loss='categorical_crossentropy',\n",
    "              optimizer='rmsprop',\n",
    "              metrics=['accuracy'])"
   ]
  },
  {
   "cell_type": "code",
   "execution_count": 84,
   "metadata": {
    "colab": {
     "base_uri": "https://localhost:8080/"
    },
    "id": "dsSbs_ygPZSH",
    "outputId": "761210de-8af8-4663-99e6-ceb1f4899540"
   },
   "outputs": [
    {
     "name": "stdout",
     "output_type": "stream",
     "text": [
      "Epoch 1/30\n",
      "3000/3000 [==============================] - 9s 3ms/step - loss: 0.3988 - accuracy: 0.8855 - val_loss: 1.0765 - val_accuracy: 0.8347\n",
      "Epoch 2/30\n",
      "3000/3000 [==============================] - 8s 3ms/step - loss: 0.4199 - accuracy: 0.8839 - val_loss: 0.9631 - val_accuracy: 0.8564\n",
      "Epoch 3/30\n",
      "3000/3000 [==============================] - 9s 3ms/step - loss: 0.4243 - accuracy: 0.8809 - val_loss: 1.1239 - val_accuracy: 0.8403\n",
      "Epoch 4/30\n",
      "3000/3000 [==============================] - 9s 3ms/step - loss: 0.4317 - accuracy: 0.8813 - val_loss: 0.9031 - val_accuracy: 0.8575\n",
      "Epoch 5/30\n",
      "3000/3000 [==============================] - 8s 3ms/step - loss: 0.4402 - accuracy: 0.8798 - val_loss: 0.9936 - val_accuracy: 0.8578\n",
      "Epoch 6/30\n",
      "3000/3000 [==============================] - 8s 3ms/step - loss: 0.4377 - accuracy: 0.8800 - val_loss: 1.0482 - val_accuracy: 0.8441\n",
      "Epoch 7/30\n",
      "3000/3000 [==============================] - 9s 3ms/step - loss: 0.4482 - accuracy: 0.8791 - val_loss: 0.8482 - val_accuracy: 0.8495\n",
      "Epoch 8/30\n",
      "3000/3000 [==============================] - 9s 3ms/step - loss: 0.4433 - accuracy: 0.8789 - val_loss: 0.8351 - val_accuracy: 0.8558\n",
      "Epoch 9/30\n",
      "3000/3000 [==============================] - 9s 3ms/step - loss: 0.4464 - accuracy: 0.8775 - val_loss: 0.8205 - val_accuracy: 0.8496\n",
      "Epoch 10/30\n",
      "3000/3000 [==============================] - 9s 3ms/step - loss: 0.4402 - accuracy: 0.8778 - val_loss: 1.2626 - val_accuracy: 0.8609\n",
      "Epoch 11/30\n",
      "3000/3000 [==============================] - 9s 3ms/step - loss: 0.4692 - accuracy: 0.8768 - val_loss: 0.9283 - val_accuracy: 0.8439\n",
      "Epoch 12/30\n",
      "3000/3000 [==============================] - 9s 3ms/step - loss: 0.4802 - accuracy: 0.8776 - val_loss: 1.0747 - val_accuracy: 0.8543\n",
      "Epoch 13/30\n",
      "3000/3000 [==============================] - 9s 3ms/step - loss: 0.4664 - accuracy: 0.8774 - val_loss: 1.0515 - val_accuracy: 0.8529\n",
      "Epoch 14/30\n",
      "3000/3000 [==============================] - 9s 3ms/step - loss: 0.4663 - accuracy: 0.8796 - val_loss: 1.2030 - val_accuracy: 0.8265\n",
      "Epoch 15/30\n",
      "3000/3000 [==============================] - 9s 3ms/step - loss: 0.4781 - accuracy: 0.8774 - val_loss: 0.9994 - val_accuracy: 0.8652\n",
      "Epoch 16/30\n",
      "3000/3000 [==============================] - 9s 3ms/step - loss: 0.4661 - accuracy: 0.8767 - val_loss: 1.2003 - val_accuracy: 0.8616\n",
      "Epoch 17/30\n",
      "3000/3000 [==============================] - 9s 3ms/step - loss: 0.4676 - accuracy: 0.8768 - val_loss: 1.1298 - val_accuracy: 0.8610\n",
      "Epoch 18/30\n",
      "3000/3000 [==============================] - 9s 3ms/step - loss: 0.4785 - accuracy: 0.8778 - val_loss: 1.0159 - val_accuracy: 0.8482\n",
      "Epoch 19/30\n",
      "3000/3000 [==============================] - 9s 3ms/step - loss: 0.4912 - accuracy: 0.8761 - val_loss: 1.0176 - val_accuracy: 0.8473\n",
      "Epoch 20/30\n",
      "3000/3000 [==============================] - 9s 3ms/step - loss: 0.4971 - accuracy: 0.8759 - val_loss: 0.9662 - val_accuracy: 0.8506\n",
      "Epoch 21/30\n",
      "3000/3000 [==============================] - 9s 3ms/step - loss: 0.4863 - accuracy: 0.8743 - val_loss: 1.1399 - val_accuracy: 0.8529\n",
      "Epoch 22/30\n",
      "3000/3000 [==============================] - 9s 3ms/step - loss: 0.4917 - accuracy: 0.8740 - val_loss: 1.1633 - val_accuracy: 0.8136\n",
      "Epoch 23/30\n",
      "3000/3000 [==============================] - 9s 3ms/step - loss: 0.5109 - accuracy: 0.8754 - val_loss: 1.1032 - val_accuracy: 0.8428\n",
      "Epoch 24/30\n",
      "3000/3000 [==============================] - 9s 3ms/step - loss: 0.5132 - accuracy: 0.8759 - val_loss: 1.4401 - val_accuracy: 0.8538\n",
      "Epoch 25/30\n",
      "3000/3000 [==============================] - 9s 3ms/step - loss: 0.5227 - accuracy: 0.8740 - val_loss: 1.1647 - val_accuracy: 0.8553\n",
      "Epoch 26/30\n",
      "3000/3000 [==============================] - 9s 3ms/step - loss: 0.4945 - accuracy: 0.8719 - val_loss: 1.1428 - val_accuracy: 0.8500\n",
      "Epoch 27/30\n",
      "3000/3000 [==============================] - 9s 3ms/step - loss: 0.5067 - accuracy: 0.8733 - val_loss: 1.0455 - val_accuracy: 0.8446\n",
      "Epoch 28/30\n",
      "3000/3000 [==============================] - 9s 3ms/step - loss: 0.4969 - accuracy: 0.8722 - val_loss: 1.0470 - val_accuracy: 0.8517\n",
      "Epoch 29/30\n",
      "3000/3000 [==============================] - 9s 3ms/step - loss: 0.5151 - accuracy: 0.8715 - val_loss: 1.7888 - val_accuracy: 0.8549\n",
      "Epoch 30/30\n",
      "3000/3000 [==============================] - 9s 3ms/step - loss: 0.5519 - accuracy: 0.8725 - val_loss: 1.5443 - val_accuracy: 0.8619\n"
     ]
    },
    {
     "data": {
      "text/plain": [
       "<tensorflow.python.keras.callbacks.History at 0x7f095f7f2828>"
      ]
     },
     "execution_count": 84,
     "metadata": {
      "tags": []
     },
     "output_type": "execute_result"
    }
   ],
   "source": [
    "model.fit(train_images, train_labels,\n",
    "          epochs=30,\n",
    "          batch_size=16, validation_split=0.2)"
   ]
  },
  {
   "cell_type": "code",
   "execution_count": 86,
   "metadata": {
    "colab": {
     "base_uri": "https://localhost:8080/"
    },
    "id": "tYhuCfINPl9C",
    "outputId": "4fb714e0-98e6-42ac-ace8-6d7ce641fb6f"
   },
   "outputs": [
    {
     "name": "stdout",
     "output_type": "stream",
     "text": [
      "313/313 [==============================] - 1s 2ms/step - loss: 2.0263 - accuracy: 0.8557\n",
      "\n",
      "Testing loss: 2.03, acc: 0.86%\n"
     ]
    }
   ],
   "source": [
    "loss, acc = model.evaluate(test_images, test_labels)\n",
    "print('\\nTesting loss: %.2f, acc: %.2f%%'%(loss, acc))"
   ]
  }
 ],
 "metadata": {
  "accelerator": "GPU",
  "colab": {
   "collapsed_sections": [],
   "name": "تمرین سری ۲ سوال ۱ ترم تابستان ۹۹",
   "provenance": []
  },
  "kernelspec": {
   "display_name": "Python 3",
   "language": "python",
   "name": "python3"
  },
  "language_info": {
   "codemirror_mode": {
    "name": "ipython",
    "version": 3
   },
   "file_extension": ".py",
   "mimetype": "text/x-python",
   "name": "python",
   "nbconvert_exporter": "python",
   "pygments_lexer": "ipython3",
   "version": "3.7.6"
  }
 },
 "nbformat": 4,
 "nbformat_minor": 1
}
