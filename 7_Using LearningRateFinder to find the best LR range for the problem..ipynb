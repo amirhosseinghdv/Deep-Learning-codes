{
 "cells": [
  {
   "cell_type": "code",
   "execution_count": 17,
   "metadata": {},
   "outputs": [],
   "source": [
    "from learningratefinder import LearningRateFinder"
   ]
  },
  {
   "cell_type": "code",
   "execution_count": 18,
   "metadata": {},
   "outputs": [],
   "source": [
    "import keras\n",
    "from keras import layers\n",
    "from keras.models import Sequential\n",
    "from keras.layers import Dense, Dropout, Activation\n",
    "import numpy as np\n",
    "from dataset import load_hoda\n",
    "import matplotlib.pyplot as plt\n",
    "\n",
    "import tensorflow as tf\n",
    "from tensorflow.keras.callbacks import TensorBoard\n",
    "import os\n",
    "import datetime"
   ]
  },
  {
   "cell_type": "code",
   "execution_count": 19,
   "metadata": {},
   "outputs": [],
   "source": [
    "x_train_original, y_train_original, x_test_original, y_test_original = load_hoda(\n",
    "                                                                        training_sample_size=3500,\n",
    "                                                                        test_sample_size=400,size=28)"
   ]
  },
  {
   "cell_type": "code",
   "execution_count": 20,
   "metadata": {},
   "outputs": [],
   "source": [
    "x_train = np.array(x_train_original)\n",
    "x_test = np.array(x_test_original)"
   ]
  },
  {
   "cell_type": "code",
   "execution_count": 21,
   "metadata": {},
   "outputs": [],
   "source": [
    "x_train = x_train.astype('float32')\n",
    "x_test = x_test.astype('float32')\n",
    "x_train /= 255\n",
    "x_test /= 255"
   ]
  },
  {
   "cell_type": "code",
   "execution_count": 22,
   "metadata": {},
   "outputs": [],
   "source": [
    "x_train = x_train.reshape(-1,28,28,1)\n",
    "x_test = x_test.reshape(-1,28,28,1)"
   ]
  },
  {
   "cell_type": "code",
   "execution_count": 23,
   "metadata": {},
   "outputs": [],
   "source": [
    "y_train = keras.utils.to_categorical(y_train_original, num_classes=10)\n",
    "y_test = keras.utils.to_categorical(y_test_original, num_classes=10)"
   ]
  },
  {
   "cell_type": "code",
   "execution_count": 24,
   "metadata": {},
   "outputs": [],
   "source": [
    "x_val = x_test[:200]\n",
    "x_test = x_test[200:]\n",
    "y_val = y_test[:200]\n",
    "y_test = y_test[200:]"
   ]
  },
  {
   "cell_type": "code",
   "execution_count": 25,
   "metadata": {},
   "outputs": [],
   "source": [
    "model = Sequential()\n",
    "model.add(layers.Conv2D(32, (3, 3), activation='relu',\n",
    "                        input_shape=(28, 28, 1)))\n",
    "model.add(layers.MaxPooling2D((2, 2)))\n",
    "model.add(layers.Conv2D(64, (3, 3), activation='relu'))\n",
    "model.add(layers.MaxPooling2D((2, 2)))\n",
    "model.add(layers.Conv2D(64, (3, 3), activation='relu'))\n",
    "model.add(layers.Flatten())\n",
    "model.add(layers.Dense(64, activation='relu'))\n",
    "model.add(Dropout(0.5))\n",
    "model.add(layers.Dense(10, activation='softmax'))"
   ]
  },
  {
   "cell_type": "code",
   "execution_count": 26,
   "metadata": {},
   "outputs": [],
   "source": [
    "MIN_LR = 1e-5\n",
    "opt = tf.keras.optimizers.SGD(lr=MIN_LR, momentum=0.9)"
   ]
  },
  {
   "cell_type": "code",
   "execution_count": 27,
   "metadata": {},
   "outputs": [],
   "source": [
    "model.compile(loss='categorical_crossentropy',\n",
    "              optimizer=opt,\n",
    "              metrics=['accuracy'])"
   ]
  },
  {
   "cell_type": "code",
   "execution_count": 28,
   "metadata": {},
   "outputs": [
    {
     "name": "stdout",
     "output_type": "stream",
     "text": [
      "Epoch 1/19\n",
      "110/110 [==============================] - 2s 22ms/step - loss: 2.3210 - accuracy: 0.0811\n",
      "Epoch 2/19\n",
      "110/110 [==============================] - 2s 16ms/step - loss: 2.3181 - accuracy: 0.0783\n",
      "Epoch 3/19\n",
      "110/110 [==============================] - 2s 16ms/step - loss: 2.3245 - accuracy: 0.0746\n",
      "Epoch 4/19\n",
      "110/110 [==============================] - 2s 16ms/step - loss: 2.3215 - accuracy: 0.0743\n",
      "Epoch 5/19\n",
      "110/110 [==============================] - 2s 16ms/step - loss: 2.3191 - accuracy: 0.0806\n",
      "Epoch 6/19\n",
      "110/110 [==============================] - 2s 17ms/step - loss: 2.3196 - accuracy: 0.0789\n",
      "Epoch 7/19\n",
      "110/110 [==============================] - 2s 16ms/step - loss: 2.3166 - accuracy: 0.0869\n",
      "Epoch 8/19\n",
      "110/110 [==============================] - 2s 15ms/step - loss: 2.3189 - accuracy: 0.0814\n",
      "Epoch 9/19\n",
      "110/110 [==============================] - 2s 16ms/step - loss: 2.3198 - accuracy: 0.0917\n",
      "Epoch 10/19\n",
      "110/110 [==============================] - 2s 15ms/step - loss: 2.3177 - accuracy: 0.0829\n",
      "Epoch 11/19\n",
      "110/110 [==============================] - 2s 15ms/step - loss: 2.3078 - accuracy: 0.0954\n",
      "Epoch 12/19\n",
      "110/110 [==============================] - 2s 15ms/step - loss: 2.2756 - accuracy: 0.1531\n",
      "Epoch 13/19\n",
      "110/110 [==============================] - 2s 16ms/step - loss: 2.0168 - accuracy: 0.3231\n",
      "Epoch 14/19\n",
      "110/110 [==============================] - 2s 16ms/step - loss: 0.9998 - accuracy: 0.6557\n",
      "Epoch 15/19\n",
      "110/110 [==============================] - 2s 15ms/step - loss: 0.6530 - accuracy: 0.7740\n",
      "Epoch 16/19\n",
      "110/110 [==============================] - 2s 16ms/step - loss: 0.8465 - accuracy: 0.7440\n",
      "Epoch 17/19\n",
      "110/110 [==============================] - 2s 15ms/step - loss: 2.4139 - accuracy: 0.1071\n",
      "Epoch 18/19\n",
      "110/110 [==============================] - 2s 15ms/step - loss: 2.3684 - accuracy: 0.1026\n",
      "Epoch 19/19\n",
      "110/110 [==============================] - 2s 15ms/step - loss: 2.7338 - accuracy: 0.1111\n"
     ]
    },
    {
     "data": {
      "image/png": "[encoded data removed]",
      "text/plain": [
       "<Figure size 432x288 with 1 Axes>"
      ]
     },
     "metadata": {
      "needs_background": "light"
     },
     "output_type": "display_data"
    }
   ],
   "source": [
    "lrf = LearningRateFinder(model)\n",
    "lrf.find((x_train, y_train),1e-10, 1e+1)\n",
    "lrf.plot_loss()"
   ]
  },
  {
   "cell_type": "code",
   "execution_count": null,
   "metadata": {},
   "outputs": [],
   "source": [
    "#so the best LR would be s.th between (10**-3) & (10**-1), (10**-2) could probably be a good choice."
   ]
  }
 ],
 "metadata": {
  "kernelspec": {
   "display_name": "Python 3.7.6 64-bit",
   "language": "python",
   "name": "python37664bitbc3e2e406e674eab939ad8d03e08194e"
  },
  "language_info": {
   "codemirror_mode": {
    "name": "ipython",
    "version": 3
   },
   "file_extension": ".py",
   "mimetype": "text/x-python",
   "name": "python",
   "nbconvert_exporter": "python",
   "pygments_lexer": "ipython3",
   "version": "3.7.6"
  }
 },
 "nbformat": 4,
 "nbformat_minor": 4
}
